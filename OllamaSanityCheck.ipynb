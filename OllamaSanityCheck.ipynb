{
 "cells": [
  {
   "cell_type": "code",
   "execution_count": 2,
   "id": "16dbbb50-c0e9-4d32-9522-d2be27fd4b48",
   "metadata": {},
   "outputs": [],
   "source": [
    "from langchain_community.chat_models import ChatOllama\n",
    "from langchain_core.messages import HumanMessage, AIMessage"
   ]
  },
  {
   "cell_type": "code",
   "execution_count": 3,
   "id": "5550ee57-c78d-4d0b-bf0b-d0cfd0aa4c33",
   "metadata": {},
   "outputs": [],
   "source": [
    "chat_model = ChatOllama(\n",
    "        base_url='http://localhost:11434',\n",
    "        model=\"phi3.5\"  # or any other model you have pulled in Ollama\n",
    "    )"
   ]
  },
  {
   "cell_type": "code",
   "execution_count": null,
   "id": "b57659e4-668b-408c-9847-27a78300f8fa",
   "metadata": {},
   "outputs": [],
   "source": [
    "aimsg = chat_model.invoke(\"Why is the sky blue?\")\n",
    "aimsg.response_metadata"
   ]
  },
  {
   "cell_type": "code",
   "execution_count": null,
   "id": "3b2e350f-619f-440a-9010-b9dd6ee8de14",
   "metadata": {},
   "outputs": [],
   "source": []
  }
 ],
 "metadata": {
  "kernelspec": {
   "display_name": "Python 3 (ipykernel)",
   "language": "python",
   "name": "python3"
  },
  "language_info": {
   "codemirror_mode": {
    "name": "ipython",
    "version": 3
   },
   "file_extension": ".py",
   "mimetype": "text/x-python",
   "name": "python",
   "nbconvert_exporter": "python",
   "pygments_lexer": "ipython3",
   "version": "3.12.7"
  }
 },
 "nbformat": 4,
 "nbformat_minor": 5
}
